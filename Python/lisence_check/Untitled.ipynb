{
 "cells": [
  {
   "cell_type": "code",
   "execution_count": 468,
   "id": "9b56ccf7-6ae3-4363-8c30-a9dfd8a23937",
   "metadata": {},
   "outputs": [],
   "source": [
    "import os, re\n",
    "import chardet\n",
    "import subprocess\n",
    "import unicodecsv as csv\n",
    "import numpy as np\n",
    "import pandas as pd \n",
    "import re"
   ]
  },
  {
   "cell_type": "code",
   "execution_count": 469,
   "id": "57eaa384-e3d1-46e7-819f-17f9395d06c4",
   "metadata": {},
   "outputs": [],
   "source": [
    "obj = subprocess.Popen([\"cmd\"], stdin=subprocess.PIPE, stdout=subprocess.PIPE, stderr=subprocess.PIPE, universal_newlines=True, encoding=\"utf-8\")\n",
    "obj.stdin.write(\"abaqus licensing dslsstat -usage\")\n",
    "obj.stdin.write(\"\\n\")\n",
    "obj.stdin.close()"
   ]
  },
  {
   "cell_type": "code",
   "execution_count": 470,
   "id": "cf7f75af-ce64-4488-a30f-83e6f607ac39",
   "metadata": {
    "tags": []
   },
   "outputs": [],
   "source": [
    "cmd_out = obj.stdout.read()\n",
    "obj.stdout.close()\n",
    "cmd_error = obj.stderr.read()\n",
    "obj.stderr.close()"
   ]
  },
  {
   "cell_type": "code",
   "execution_count": 471,
   "id": "d61e27b8-b2ac-4746-96f0-a77ebea03465",
   "metadata": {},
   "outputs": [],
   "source": [
    "cmd_out2 = cmd_out.splitlines()\n",
    "#cmd_out2 = cmd_out2.split('|')"
   ]
  },
  {
   "cell_type": "code",
   "execution_count": 472,
   "id": "a9e9dd3f-f72c-4f0c-a65f-3e1567911d67",
   "metadata": {
    "tags": []
   },
   "outputs": [],
   "source": [
    "out3 = np.array(cmd_out2).T"
   ]
  },
  {
   "cell_type": "code",
   "execution_count": 473,
   "id": "80066e66-dd4a-4100-93eb-132150913486",
   "metadata": {},
   "outputs": [],
   "source": [
    "df=pd.DataFrame(out3)\n",
    "df=df[0].str.split('|', expand=True)\n",
    "df1=df[0].str.split(',', expand=True)\n",
    "df1[['a','b','c','day','time','f','linum','h']]=df1[1].str.split('\\s', expand=True)\n",
    "#df=pd.concat([df1,df2], axis=1)\n",
    "df=df1.drop(df1.tail(2).index) #从尾部去掉 n 行\n",
    "df.to_csv('result.csv')"
   ]
  },
  {
   "cell_type": "code",
   "execution_count": null,
   "id": "734e737f-4e4e-4dd9-ad42-964e143ac8eb",
   "metadata": {
    "collapsed": true,
    "jupyter": {
     "outputs_hidden": true
    },
    "tags": []
   },
   "outputs": [
    {
     "name": "stdout",
     "output_type": "stream",
     "text": [
      "                                                     0  \\\n",
      "0           Microsoft Windows [Version 10.0.22000.434]   \n",
      "1      (c) Microsoft Corporation. All rights reserved.   \n",
      "2                                                        \n",
      "3    (base) C:\\Users\\brcy\\Desktop>abaqus licensing ...   \n",
      "4                       # 1 license servers declared:    \n",
      "..                                                 ...   \n",
      "299      hiratani on DESKTOP-FCQDINT (42E51085C2CF9...   \n",
      "300      bridge on BRABQ9 (42CE189EF33B866F-0a6c330...   \n",
      "301      hiratani on DESKTOP-FCQDINT (42E51085C2CF9...   \n",
      "302      bridge on BRABQ10 (440E1CECEF40E5FD-0a6c33...   \n",
      "303      bridge on BRABQ8 (41E614006A846887-0a6c33c...   \n",
      "\n",
      "                                                    1     a        b     c  \\\n",
      "0                                                None  None     None  None   \n",
      "1                                                None  None     None  None   \n",
      "2                                                None  None     None  None   \n",
      "3                                                None  None     None  None   \n",
      "4                                                None  None     None  None   \n",
      "..                                                ...   ...      ...   ...   \n",
      "299   granted on 20-1-2022 16:48:40 using 50 licenses        granted    on   \n",
      "300   granted on 21-1-2022 11:14:10 using 76 licenses        granted    on   \n",
      "301   granted on 21-1-2022 13:22:25 using 50 licenses        granted    on   \n",
      "302   granted on 21-1-2022 14:47:47 using 32 licenses        granted    on   \n",
      "303   granted on 21-1-2022 15:25:27 using 76 licenses        granted    on   \n",
      "\n",
      "           day      time      f linum         h  \n",
      "0         None      None   None  None      None  \n",
      "1         None      None   None  None      None  \n",
      "2         None      None   None  None      None  \n",
      "3         None      None   None  None      None  \n",
      "4         None      None   None  None      None  \n",
      "..         ...       ...    ...   ...       ...  \n",
      "299  20-1-2022  16:48:40  using    50  licenses  \n",
      "300  21-1-2022  11:14:10  using    76  licenses  \n",
      "301  21-1-2022  13:22:25  using    50  licenses  \n",
      "302  21-1-2022  14:47:47  using    32  licenses  \n",
      "303  21-1-2022  15:25:27  using    76  licenses  \n",
      "\n",
      "[304 rows x 10 columns]\n",
      "\n"
     ]
    }
   ],
   "source": [
    "print(df)\n",
    "print(cmd_error)  # 程序没有异常，只输出空行"
   ]
  },
  {
   "cell_type": "code",
   "execution_count": 474,
   "id": "6cdaa48f-453c-4aae-973a-fd73a06bf8e3",
   "metadata": {
    "tags": []
   },
   "outputs": [
    {
     "name": "stdout",
     "output_type": "stream",
     "text": [
      "301     bridge on BRABQ8 (41E614006A846887-0a6c3362.2) 21-1-2022 15:40:32 76\n",
      "300     bridge on BRABQ10 (440E1CECEF40E5FD-0a6c330a.2) 21-1-2022 14:47:47 32\n",
      "299     hiratani on DESKTOP-FCQDINT (42E51085C2CF9139-0a23e27d.2) 21-1-2022 13:22:25 50\n",
      "298     bridge on BRABQ9 (42CE189EF33B866F-0a6c330c.1) 21-1-2022 11:14:10 76\n",
      "297     hiratani on DESKTOP-FCQDINT (42E51085C2CF9139-0a23e27d.2) 20-1-2022 16:48:40 50\n",
      "296     hiratani on DESKTOP-FCQDINT (42E51085C2CF9139-0a23e27d.2) 20-1-2022 16:09:15 24\n",
      "295     hiratani on DESKTOP-FCQDINT (42E51085C2CF9139-0a23e27d.2) 20-1-2022 15:23:58 50\n",
      "294     bridge on BRABQ10 (440E1CECEF40E5FD-0a6c330a.2) 21-1-2022 14:47:47 40\n",
      "293     bridge on BRABQ10 (440E1CECEF40E5FD-0a6c330a.2) 21-1-2022 14:47:47 4\n",
      "292     hiratani on DESKTOP-FCQDINT (42E51085C2CF9139-0a23e27d.2) 20-1-2022 16:18:51 40\n",
      "291     hiratani on DESKTOP-FCQDINT (42E51085C2CF9139-0a23e27d.2) 20-1-2022 16:09:15 26\n",
      "290     hiratani on DESKTOP-FCQDINT (42E51085C2CF9139-0a23e27d.2) 20-1-2022 16:18:51 10\n"
     ]
    }
   ],
   "source": [
    "for idx in reversed(df.index):\n",
    "    if df.loc[idx,'linum'] != None :\n",
    "        print(idx, df.loc[idx, 0], df.loc[idx,'day'], df.loc[idx,'time'], df.loc[idx, 'linum'])\n",
    "    else: \n",
    "        break"
   ]
  },
  {
   "cell_type": "code",
   "execution_count": 481,
   "id": "5c081117-277c-4475-94a3-02a44a83c748",
   "metadata": {
    "collapsed": true,
    "jupyter": {
     "outputs_hidden": true
    },
    "tags": []
   },
   "outputs": [
    {
     "name": "stdout",
     "output_type": "stream",
     "text": [
      "                                                     0        day      time  \\\n",
      "289                                                          None      None   \n",
      "290      hiratani on DESKTOP-FCQDINT (42E51085C2CF9...  20-1-2022  16:18:51   \n",
      "291      hiratani on DESKTOP-FCQDINT (42E51085C2CF9...  20-1-2022  16:09:15   \n",
      "292      hiratani on DESKTOP-FCQDINT (42E51085C2CF9...  20-1-2022  16:18:51   \n",
      "293      bridge on BRABQ10 (440E1CECEF40E5FD-0a6c33...  21-1-2022  14:47:47   \n",
      "294      bridge on BRABQ10 (440E1CECEF40E5FD-0a6c33...  21-1-2022  14:47:47   \n",
      "295      hiratani on DESKTOP-FCQDINT (42E51085C2CF9...  20-1-2022  15:23:58   \n",
      "296      hiratani on DESKTOP-FCQDINT (42E51085C2CF9...  20-1-2022  16:09:15   \n",
      "297      hiratani on DESKTOP-FCQDINT (42E51085C2CF9...  20-1-2022  16:48:40   \n",
      "298      bridge on BRABQ9 (42CE189EF33B866F-0a6c330...  21-1-2022  11:14:10   \n",
      "299      hiratani on DESKTOP-FCQDINT (42E51085C2CF9...  21-1-2022  13:22:25   \n",
      "300      bridge on BRABQ10 (440E1CECEF40E5FD-0a6c33...  21-1-2022  14:47:47   \n",
      "301      bridge on BRABQ8 (41E614006A846887-0a6c336...  21-1-2022  15:40:32   \n",
      "\n",
      "         f linum         h  \n",
      "289   None  None      None  \n",
      "290  using    10  licenses  \n",
      "291  using    26  licenses  \n",
      "292  using    40  licenses  \n",
      "293  using     4  licenses  \n",
      "294  using    40  licenses  \n",
      "295  using    50  licenses  \n",
      "296  using    24  licenses  \n",
      "297  using    50  licenses  \n",
      "298  using    76  licenses  \n",
      "299  using    50  licenses  \n",
      "300  using    32  licenses  \n",
      "301  using    76  licenses  \n"
     ]
    }
   ],
   "source": [
    "df5=df.drop(df.head(idx).index)\n",
    "df5=df5.drop([1,'a','b','c'], axis=1)\n",
    "print(df5)"
   ]
  },
  {
   "cell_type": "code",
   "execution_count": 493,
   "id": "2ac8a13d-2643-422a-94e9-1df73f7b4a5f",
   "metadata": {},
   "outputs": [
    {
     "name": "stdout",
     "output_type": "stream",
     "text": [
      "                                                   0      time  linum\n",
      "0                                                sum      570-  478.0\n",
      "1      hiratani on DESKTOP-FCQDINT (42E51085C2CF9...  16:09:15   50.0\n",
      "2      bridge on BRABQ10 (440E1CECEF40E5FD-0a6c33...  14:47:47   76.0\n",
      "3      hiratani on DESKTOP-FCQDINT (42E51085C2CF9...  15:23:58   50.0\n",
      "4      hiratani on DESKTOP-FCQDINT (42E51085C2CF9...  16:48:40   50.0\n",
      "5      bridge on BRABQ9 (42CE189EF33B866F-0a6c330...  11:14:10   76.0\n",
      "6      hiratani on DESKTOP-FCQDINT (42E51085C2CF9...  13:22:25   50.0\n",
      "7      bridge on BRABQ8 (41E614006A846887-0a6c336...  15:40:32   76.0\n"
     ]
    }
   ],
   "source": [
    "df5['linum'] = df5['linum'].astype(float)\n",
    "df6=df5.groupby([0,'time'], sort=False)['linum'].sum().reset_index()\n",
    "lisum=df6['linum'].sum()\n",
    "df6.loc[0]=['sum','570-',lisum]\n",
    "print(df6)"
   ]
  },
  {
   "cell_type": "code",
   "execution_count": 29,
   "id": "39abd2c4-9e2c-4748-98c9-ee09294ed9eb",
   "metadata": {},
   "outputs": [
    {
     "name": "stdout",
     "output_type": "stream",
     "text": [
      "                                                   0          time  linum\n",
      "0                                 All lisence is 570  remaing:72.0  498.0\n",
      "1      bridge on BRABQ10 (440E1CECEF40E5FD-0a6c33...      14:47:47   76.0\n",
      "2      bridge on BRABQ8 (41E614006A846887-0a6c33c...      18:45:14   76.0\n",
      "3      bridge on BRABQ9 (42CE189EF33B866F-0a6c330...      11:14:10   76.0\n",
      "4      hiratani on DESKTOP-FCQDINT (42E51085C2CF9...      13:22:25   50.0\n",
      "5      bridge on BRABQ10 (440E1CECEF40E5FD-0a6c33...      17:25:32  120.0\n",
      "6      azuma on DESKTOP-LR7USU2 (424C1C52825ABB52...      18:50:55   50.0\n"
     ]
    }
   ],
   "source": [
    "#*-* encoding: utf-8 *-*\n",
    "import os, re\n",
    "import chardet\n",
    "import subprocess\n",
    "import unicodecsv as csv\n",
    "import numpy as np\n",
    "import pandas as pd \n",
    "import re\n",
    "from pandas.plotting import  table\n",
    "import matplotlib.pyplot as plt\n",
    "import dataframe_image as dfi\n",
    "import base64\n",
    "import json\n",
    "import requests\n",
    "from base64 import b64encode\n",
    "\n",
    "obj = subprocess.Popen([\"cmd\"], stdin=subprocess.PIPE, stdout=subprocess.PIPE, stderr=subprocess.PIPE, universal_newlines=True, encoding=\"utf-8\")\n",
    "obj.stdin.write(\"abaqus licensing dslsstat -usage\")\n",
    "obj.stdin.write(\"\\n\")\n",
    "obj.stdin.close()\n",
    "\n",
    "cmd_out = obj.stdout.read()\n",
    "obj.stdout.close()\n",
    "cmd_error = obj.stderr.read()\n",
    "obj.stderr.close()\n",
    "\n",
    "cmd_out2 = cmd_out.splitlines()\n",
    "#cmd_out2 = cmd_out2.split('|')\n",
    "\n",
    "out3 = np.array(cmd_out2).T\n",
    "\n",
    "df=pd.DataFrame(out3)\n",
    "df=df[0].str.split('|', expand=True)\n",
    "df1=df[0].str.split(',', expand=True)\n",
    "df1[['a','b','c','day','time','f','linum','h']]=df1[1].str.split('\\s', expand=True)\n",
    "#df=pd.concat([df1,df2], axis=1)\n",
    "df=df1.drop(df1.tail(2).index) #从尾部去掉 n 行\n",
    "\n",
    "for idx in reversed(df.index):\n",
    "    if df.loc[idx,'linum'] == None :\n",
    "        break\n",
    "df5=df.drop(df.head(idx).index)\n",
    "df5=df5.drop([1,'a','b','c'], axis=1)\n",
    "df5['linum'] = df5['linum'].astype(float)\n",
    "df6=df5.groupby([0,'time'], sort=False)['linum'].sum().reset_index()\n",
    "lisum=df6['linum'].sum()\n",
    "remin='remaing:'+str(570-lisum)\n",
    "df6.loc[0]=['All lisence is 570',remin,lisum]\n",
    "print(df6)\n",
    "#########################\n",
    "#グラフ化\n",
    "#########################\n",
    "# fig = plt.figure(figsize=(3, 4), dpi=1400)\n",
    "# ax = fig.add_subplot(111, frame_on=False) \n",
    "# ax.xaxis.set_visible(False)  # hide the x axis\n",
    "# ax.yaxis.set_visible(False)  # hide the y axis\n",
    "# table(ax, df6, loc='center')  # 将df换成需要保存的dataframe即可\n",
    "#plt.savefig('license.png')\n",
    "df_styled = df6.style.background_gradient()\n",
    "dfi.export(df_styled,\"V:\\wiki\\public\\images\\lisence.png\")\n",
    "#df6.to_csv('result.csv')"
   ]
  },
  {
   "cell_type": "code",
   "execution_count": 28,
   "id": "91e547f7-3469-4ba1-a142-783763005d48",
   "metadata": {},
   "outputs": [
    {
     "ename": "SyntaxError",
     "evalue": "invalid syntax (Temp/ipykernel_24656/3101482062.py, line 1)",
     "output_type": "error",
     "traceback": [
      "\u001b[1;36m  File \u001b[1;32m\"C:\\Users\\brcy\\AppData\\Local\\Temp/ipykernel_24656/3101482062.py\"\u001b[1;36m, line \u001b[1;32m1\u001b[0m\n\u001b[1;33m    pyinstaller -F lisence_test.py --clean\u001b[0m\n\u001b[1;37m                   ^\u001b[0m\n\u001b[1;31mSyntaxError\u001b[0m\u001b[1;31m:\u001b[0m invalid syntax\n"
     ]
    }
   ],
   "source": [
    "pyinstaller -F lisence_test.py --clean"
   ]
  },
  {
   "cell_type": "code",
   "execution_count": null,
   "id": "d089bbec-4cc6-4d30-97b6-6bd4b4e68e00",
   "metadata": {},
   "outputs": [],
   "source": []
  },
  {
   "cell_type": "code",
   "execution_count": null,
   "id": "89b9b98a-8cdd-411c-83c6-035fe3014a54",
   "metadata": {},
   "outputs": [],
   "source": []
  }
 ],
 "metadata": {
  "kernelspec": {
   "display_name": "Python 3 (ipykernel)",
   "language": "python",
   "name": "python3"
  },
  "language_info": {
   "codemirror_mode": {
    "name": "ipython",
    "version": 3
   },
   "file_extension": ".py",
   "mimetype": "text/x-python",
   "name": "python",
   "nbconvert_exporter": "python",
   "pygments_lexer": "ipython3",
   "version": "3.9.7"
  }
 },
 "nbformat": 4,
 "nbformat_minor": 5
}
