{
  "nbformat": 4,
  "nbformat_minor": 0,
  "metadata": {
    "colab": {
      "name": "Material_test.ipynb",
      "provenance": [],
      "collapsed_sections": [],
      "toc_visible": true
    },
    "kernelspec": {
      "name": "python3",
      "display_name": "Python 3"
    },
    "language_info": {
      "name": "python"
    }
  },
  "cells": [
    {
      "cell_type": "markdown",
      "metadata": {
        "id": "kqUrFCJLpc2U"
      },
      "source": [
        "## 材料試験自動データ処理"
      ]
    },
    {
      "cell_type": "markdown",
      "metadata": {
        "id": "VzViXtaBqm_e"
      },
      "source": [
        "### 導入\n",
        "最初はcsv生データから，必要なデータを読み取り，応力，縦ひずみ平均値と横ひずみ平均値を算出する．\n",
        "\n",
        ">ここでは，生データのひずみチャンネル配置によらず，コードで数値の[+，-]を用いて，縦ひずみや横ひずみの判定を行った．"
      ]
    },
    {
      "cell_type": "code",
      "metadata": {
        "id": "2JUdFf1rFVlK",
        "colab": {
          "base_uri": "https://localhost:8080/"
        },
        "outputId": "81e6df5d-a38f-4b2a-ce42-e4034185ebaa"
      },
      "source": [
        "from glob import glob\n",
        "from google.colab import drive\n",
        "import csv\n",
        "import numpy as np\n",
        "from openpyxl import load_workbook\n",
        "import matplotlib.pyplot as plt\n",
        " \n",
        "###google driveに接続する．ローカル実行の場合は消してください．\n",
        "drive.mount('/content/drive')\n",
        "%cd '/content/drive/MyDrive/Colab_Notebooks/material_test'\n",
        "###\n",
        "\n",
        "filenames = glob('*.csv')\n",
        "print(filenames)\n",
        " \n",
        "#for filename in filenames:\n",
        "with open('材料試験_H300W_No.1_データリスト.csv',encoding=\"utf8\",errors='ignore') as f:\n",
        "  f_csv = csv.reader(f)\n",
        "  next(f_csv)\n",
        "  data = list(f_csv)\n",
        "  a = np.array(data)\n",
        "  load = a[1:,2]\n",
        "  a = a[1:,:]         #文字列の次から\n",
        "  x = range(np.shape(a)[0])\n",
        "  y = len(data) - 1     #行数を数える\n",
        "  case1 = np.empty([y,8],dtype = float)\n",
        " \n",
        "#########################\n",
        "for i in x:\n",
        "  case1[i,0] = a[i,2]  #load\n",
        "  case1[i,1] = a[i,3]  #disp\n",
        "  if float(a[int(y/2),4]) > 0 :   #縦ひずみを判定する\n",
        "    case1[i,2] = a[i,4]       #縦ひずみ1を定義する\n",
        "    if float(a[int(y/2),5]) > 0 : #縦ひずみを判定する\n",
        "      case1[i,3] = a[i,5]     #縦ひずみ2を定義する\n",
        "      case1[i,4] = a[i,6]     #横ひずみ1を定義する\n",
        "      case1[i,5] = a[i,7]     #横ひずみ2を定義する\n",
        "    else :\n",
        "      case1[i,4] = a[i,5]      #横ひずみ1を定義する\n",
        "      case1[i,5] = a[i,7]    #横ひずみ2を定義する\n",
        "      case1[i,3] = a[i,6]    #縦ひずみ2を定義する\n",
        "  if i == y :\n",
        "    break\n",
        "  striantate = (case1[:,2]+case1[:,3])/2        #縦ひずみ平均値\n",
        "  strianyoko = (case1[:,4]+case1[:,5])/2        #横ひずみ平均値\n",
        "############################\n",
        "#　エクセルシート（テンプレート）を読み込む\n",
        "wb = load_workbook(\"template_mt.xlsx\", data_only=True)  #エクセルシートを導入する\n",
        "wb1 = wb.active           #シートを選択する\n",
        "\n",
        "#################\n",
        " \n",
        "A = wb1['F9'].value   #断面積を取得する\n",
        "case1[:,6] = case1[:,0] *1000/ A     #応力の算出\n",
        " \n",
        "#################\n"
      ],
      "execution_count": null,
      "outputs": [
        {
          "output_type": "stream",
          "text": [
            "Drive already mounted at /content/drive; to attempt to forcibly remount, call drive.mount(\"/content/drive\", force_remount=True).\n",
            "/content/drive/MyDrive/Colab_Notebooks/material_test\n",
            "['材料試験_H300W-No1_データリスト.csv', '材料試験_H300W_No.2_データリスト.csv', '材料試験_H300W_No.3_データリスト.csv']\n",
            "7513.615\n"
          ],
          "name": "stdout"
        }
      ]
    },
    {
      "cell_type": "markdown",
      "metadata": {
        "id": "jC8sIhdG762w"
      },
      "source": [
        "### 降伏点の算出方\n",
        "\n",
        "\n",
        "---\n",
        "\n",
        "\n",
        "　標準材料試験に対して，ひずみが4000まで，基本降伏点を超えているため，降伏点の算出は：\n",
        "> ひずみが4000までの最大応力とする．\n",
        " \n",
        " 　引張強度は応力の最大値を取得する．\n"
      ]
    },
    {
      "cell_type": "code",
      "metadata": {
        "id": "qEy0nbFJ76VM",
        "colab": {
          "base_uri": "https://localhost:8080/"
        },
        "outputId": "000abeab-c773-4c16-dfae-bcafe65c5a53"
      },
      "source": [
        "sigma_y = 0\n",
        "i = 0\n",
        "while striantate[i] < 4000:\n",
        "  sigma_y= max(sigma_y,case1[i,6])\n",
        "  i = i+1\n",
        "sigma_u = max(case1[:,6])\n",
        "print('降伏点：',sigma_y)\n",
        "print('引張強度：',sigma_u)"
      ],
      "execution_count": null,
      "outputs": [
        {
          "output_type": "stream",
          "text": [
            "降伏点： 383.06489749053026\n",
            "引張強度： 507.06043342537953\n"
          ],
          "name": "stdout"
        }
      ]
    },
    {
      "cell_type": "markdown",
      "metadata": {
        "id": "eRxT1ZlVI3it"
      },
      "source": [
        "### 最小二乗法を用いたヤング率の求め\n",
        "---\n",
        "　実験の初期ノイズおよび，降伏点付近の塑性化の影響を排除するため，ヤング率の算出範囲は **[0.2$\\sigma_y$ - 0.7$\\sigma_y$]** となった．</br>\n",
        " 　最小二乗法を用いて，曲線の傾き$k_1$は以下のように算出された：\n",
        "\\begin{align}\n",
        "k_1 =\\frac{n \\sum_{i=1}^{n} x_{i} y_{i}-\\sum_{i=1}^{n} x_{i} \\sum_{i=1}^{n} y_{i}}{n \\sum_{i=1}^{n} x_{i}^{2}-\\left(\\sum_{i=1}^{n} x_{i}\\right)^{2}}\n",
        "\\end{align}\n",
        "<br>\n",
        " 　コードで見やすいため，以下のように省略で表記する．\n",
        "\\begin{align}\n",
        " k_1 = \\frac {na1 - a21\\times a22} {nb1 - a21^2}\n",
        "\\end{align}\n",
        "\n",
        "<br>\n",
        "   なお，決定係数$R^2$については，残差の二乗和を標本値の平均値 $\\overline{y}$からの偏差の二乗和で割ったものを1から引いた値であり,以下のような式で算出した．\n",
        "\\begin{align}\n",
        "R^{2} \\equiv 1-\\frac{\\sum_{i=1}^{N}\\left(y_{i}-f_{i}\\right)^{2}}{\\sum_{j=1}^{N}\\left(y_{j}-\\bar{y}\\right)^{2}}\n",
        "\\end{align}\n"
      ]
    },
    {
      "cell_type": "code",
      "metadata": {
        "colab": {
          "base_uri": "https://localhost:8080/"
        },
        "id": "bCBmLcgrQpsd",
        "outputId": "c2e4a40c-936f-42f8-a446-59523554c035"
      },
      "source": [
        "i = 0; a1 = 0; a21 = 0; a22 = 0; k1 = 0; b1 = 0; n=0;pc = 0;\n",
        "for j in case1[:,6]:\n",
        "  if j > 0.2*sigma_y and j < 0.7*sigma_y:\n",
        "    a1 += (striantate[i] * case1[i,6])\n",
        "    a21 += striantate[i]\n",
        "    a22 += case1[i,6]\n",
        "    b1 += striantate[i] ** 2\n",
        "    pc += strianyoko[i]/striantate[i]\n",
        "    n += 1\n",
        "  i = i+1\n",
        "\n",
        "k1 = (n*a1 - a21*a22)/(n*b1-a21**2)     #yong's modulus\n",
        "b0 = a22/n - k1*a21/n            #intercept　切片\n",
        "pc = -pc/n                   #Poisson coefficient ポアソン比\n",
        "####### R決定係数の求め\n",
        "i = 0; ssr = 0; sst = 0\n",
        "ymean = a22/n\n",
        "for j in case1[:,6]:\n",
        "  if j > 0.2*sigma_y and j < 0.7*sigma_y:\n",
        "    ssr += (case1[i,6] - (striantate[i]*k1+b0))**2\n",
        "    sst += (case1[i,6] - ymean)**2\n",
        "  i += 1\n",
        "R2 = 1 - ssr/sst        #R2 Coefficient of determination，決定係数\n",
        "######\n",
        "print('ヤング率E = ',k1*10**6)\n",
        "print('ポアソン比 = ',pc)\n",
        "print('決定係数R^2 = ',R2)"
      ],
      "execution_count": null,
      "outputs": [
        {
          "output_type": "stream",
          "text": [
            "ヤング率E =  190528.6431270158\n",
            "ポアソン比 =  0.25305185229786026\n",
            "決定係数R^2 =  0.9994418019299354\n"
          ],
          "name": "stdout"
        }
      ]
    },
    {
      "cell_type": "markdown",
      "metadata": {
        "id": "Fi5hidMXw3Te"
      },
      "source": [
        "### グラフの出力\n",
        "\n",
        "---\n",
        "\n",
        " matplotlibを用いてグラフの出力"
      ]
    },
    {
      "cell_type": "code",
      "metadata": {
        "colab": {
          "base_uri": "https://localhost:8080/",
          "height": 283
        },
        "id": "GX9ILzFTw00l",
        "outputId": "f1b30811-bf7d-4c1c-dee6-08da157c437e"
      },
      "source": [
        "##############\n",
        "#グラフを書く\n",
        "plt.plot(striantate,case1[:,6], label=\"stress-strain\",color='black',linewidth=0.75)\n",
        "plt.xlabel(\"Strain\")\n",
        "plt.ylabel(\"Stress [$N/mm^2$]\")\n",
        "plt.ylim(0, 500)\n",
        "plt.xlim(0, 70000)\n",
        "plt.grid(color=\"k\", linestyle=\":\") # メッシュ背景を点線に設定する\n",
        "plt.legend(loc=4,numpoints=1)            #凡例\n",
        "plt.savefig('stress-strain.svg')    #svgとして保存\n",
        "plt.show()\n",
        "###############"
      ],
      "execution_count": null,
      "outputs": [
        {
          "output_type": "display_data",
          "data": {
            "image/png": "[encoded data removed]",
            "text/plain": [
              "<Figure size 432x288 with 1 Axes>"
            ]
          },
          "metadata": {
            "needs_background": "light"
          }
        }
      ]
    },
    {
      "cell_type": "markdown",
      "metadata": {
        "id": "pto0QuUVpFON"
      },
      "source": [
        "### データを書き込む\n",
        "最後に処理完了したデータを全部Excelテンプレートに書き込む．"
      ]
    },
    {
      "cell_type": "code",
      "metadata": {
        "id": "yW-wGq2VpO7q"
      },
      "source": [
        "wb1.cell(6,10,sigma_y)\n",
        "wb1.cell(6,11,sigma_u)\n",
        "wb1.cell(6,12,k1)\n",
        "wb1.cell(6,13,pc)\n",
        "for i in range(3,y) :\n",
        "  for j in range(2,8) :\n",
        "    wb1.cell(i,j,case1[i-3,j-2]) #シートにi行j列にデータを書き込む\n",
        "wb.save(\"111.xlsx\")     #保存する"
      ],
      "execution_count": null,
      "outputs": []
    },
    {
      "cell_type": "markdown",
      "metadata": {
        "id": "4HZct9dxsZSa"
      },
      "source": [
        "## Full Code\n",
        "\n",
        "1. フォルダ内に`.csv`ファイルを探して，名前を取得する．\n",
        "2. 生データを読み取り，データ処理を行う．\n",
        "3. 生データから，縦ひずみ，横ひずみ平均値と応力を算出する．\n",
        "4. 降伏点および引張強度を算出する．\n",
        "5. 最小二乗法を用いてヤング率およびポアソン比の算出．\n",
        "6. 応力－ひずみ関係グラフを書く，出力，保存する．\n",
        "7. 計算結果および生データをテンプレートに保存する．"
      ]
    },
    {
      "cell_type": "code",
      "metadata": {
        "colab": {
          "base_uri": "https://localhost:8080/",
          "height": 849
        },
        "id": "nuJKXsGJsdjx",
        "outputId": "dc8266cc-a37f-4aac-cc47-4c2886c55ad4"
      },
      "source": [
        "from glob import glob\n",
        "from google.colab import drive\n",
        "import csv\n",
        "import numpy as np\n",
        "from openpyxl import load_workbook\n",
        "import matplotlib.pyplot as plt\n",
        " \n",
        "###\n",
        "drive.mount('/content/drive')\n",
        "%cd '/content/drive/MyDrive/Colab_Notebooks/material_test'\n",
        "filenames = glob('*.csv')\n",
        "###\n",
        "m=1;  #生データ書き込むためcellの列数，\n",
        "row1 = 6  #計算結果を書き込むための行数\n",
        "############################\n",
        "#　エクセルシート（テンプレート）を読み込む\n",
        "wb = load_workbook(\"template_mt.xlsx\", data_only=True)  #エクセルシートを導入する\n",
        "wb1 = wb.active           #シートを選択する\n",
        "\n",
        "######\n",
        "for filename in filenames:\n",
        "  fname = filename.split('_')[-2]\n",
        "  with open(filename,encoding=\"utf8\",errors='ignore') as f:\n",
        "    f_csv = csv.reader(f)\n",
        "    next(f_csv)\n",
        "    data = list(f_csv)\n",
        "    a = np.array(data)\n",
        "    load = a[1:,2]\n",
        "    a = a[1:,:]         #文字列の次から\n",
        "    x = range(np.shape(a)[0])\n",
        "    y = len(data) - 1     #行数を数える\n",
        "    case1 = np.empty([y,8],dtype = float)\n",
        "  \n",
        "  #########################\n",
        "  for i in x:\n",
        "    case1[i,0] = a[i,2]  #load\n",
        "    case1[i,1] = a[i,3]  #disp\n",
        "    if float(a[int(y/2),4]) > 0 :   #縦ひずみを判定する\n",
        "      case1[i,2] = a[i,4]       #縦ひずみ1を定義する\n",
        "      if float(a[int(y/2),5]) > 0 : #縦ひずみを判定する\n",
        "        case1[i,3] = a[i,5]     #縦ひずみ2を定義する\n",
        "        case1[i,4] = a[i,6]     #横ひずみ1を定義する\n",
        "        case1[i,5] = a[i,7]     #横ひずみ2を定義する\n",
        "      else :\n",
        "        case1[i,4] = a[i,5]      #横ひずみ1を定義する\n",
        "        case1[i,5] = a[i,7]    #横ひずみ2を定義する\n",
        "        case1[i,3] = a[i,6]    #縦ひずみ2を定義する\n",
        "    if i == y :\n",
        "      break\n",
        "    striantate = (case1[:,2]+case1[:,3])/2        #縦ひずみ平均値\n",
        "    strianyoko = (case1[:,4]+case1[:,5])/2        #横ひずみ平均値\n",
        "\n",
        "  #################\n",
        "  \n",
        "  A = wb1.cell(row1,6).value   #断面積を取得する\n",
        "  case1[:,6] = case1[:,0] *1000/ A     #応力の算出\n",
        "  \n",
        "  #################降伏点および引張強度の算出\n",
        "  sigma_y = 0\n",
        "  i = 0\n",
        "  while striantate[i] < 4000:\n",
        "    sigma_y= max(sigma_y,case1[i,6])\n",
        "    i = i+1\n",
        "  sigma_u = max(case1[:,6])\n",
        "  ##############ヤング率の算出\n",
        "  i = 0; a1 = 0; a21 = 0; a22 = 0; k1 = 0; b1 = 0; n=0;pc = 0;\n",
        "  for j in case1[:,6]:\n",
        "    if j > 0.2*sigma_y and j < 0.7*sigma_y:\n",
        "      a1 += (striantate[i] * case1[i,6])\n",
        "      a21 += striantate[i]\n",
        "      a22 += case1[i,6]\n",
        "      b1 += striantate[i] ** 2\n",
        "      pc += strianyoko[i]/striantate[i]\n",
        "      n += 1\n",
        "    i = i+1\n",
        "\n",
        "  k1 = (n*a1 - a21*a22)/(n*b1-a21**2)     #yong's modulus\n",
        "  b0 = a22/n - k1*a21/n            #intercept　切片\n",
        "  pc = -pc/n                   #Poisson coefficient ポアソン比\n",
        "  ####### R決定係数の求め\n",
        "  i = 0; ssr = 0; sst = 0\n",
        "  ymean = a22/n\n",
        "  for j in case1[:,6]:\n",
        "    if j > 0.2*sigma_y and j < 0.7*sigma_y:\n",
        "      ssr += (case1[i,6] - (striantate[i]*k1+b0))**2\n",
        "      sst += (case1[i,6] - ymean)**2\n",
        "    i += 1\n",
        "  R2 = 1 - ssr/sst        #R2 Coefficient of determination，決定係数\n",
        "  ##########グラフを書く\n",
        "  plt.plot(striantate,case1[:,6], label=\"stress-strain\",color='black',linewidth=0.75)\n",
        "  plt.xlabel(\"Strain\")\n",
        "  plt.ylabel(\"Stress [$N/mm^2$]\")\n",
        "  plt.ylim(0, 500)\n",
        "  plt.xlim(0, 70000)\n",
        "  plt.grid(color=\"k\", linestyle=\":\") # メッシュ背景を点線に設定する\n",
        "  plt.legend(loc=4,numpoints=1)            #凡例\n",
        "  plt.savefig(fname+'-stress-strain.svg')    #svgとして保存\n",
        "  plt.show()\n",
        "  ###############データの書き込む\n",
        "  wb1.cell(row1,10,sigma_y)\n",
        "  wb1.cell(row1,11,sigma_u)\n",
        "  wb1.cell(row1,12,k1)\n",
        "  wb1.cell(row1,13,pc)\n",
        "\n",
        "  for i in range(15,y) :\n",
        "    j1 = 0\n",
        "    for j in range(m,m+6) :\n",
        "      wb1.cell(i,j,case1[i-15,j1]) #シートにi行j列にデータを書き込む\n",
        "      j1 +=1\n",
        "  \n",
        "  m += 6\n",
        "  row1 += 1\n",
        "\n",
        "  wb.save(\"test.xlsx\")     #保存する"
      ],
      "execution_count": null,
      "outputs": [
        {
          "output_type": "stream",
          "text": [
            "Drive already mounted at /content/drive; to attempt to forcibly remount, call drive.mount(\"/content/drive\", force_remount=True).\n",
            "/content/drive/MyDrive/Colab_Notebooks/material_test\n"
          ],
          "name": "stdout"
        },
        {
          "output_type": "display_data",
          "data": {
            "image/png": "[encoded data removed]",
            "text/plain": [
              "<Figure size 432x288 with 1 Axes>"
            ]
          },
          "metadata": {
            "needs_background": "light"
          }
        },
        {
          "output_type": "display_data",
          "data": {
            "image/png": "[encoded data removed]",
            "text/plain": [
              "<Figure size 432x288 with 1 Axes>"
            ]
          },
          "metadata": {
            "needs_background": "light"
          }
        },
        {
          "output_type": "display_data",
          "data": {
            "image/png": "[encoded data removed]",
            "text/plain": [
              "<Figure size 432x288 with 1 Axes>"
            ]
          },
          "metadata": {
            "needs_background": "light"
          }
        }
      ]
    },
    {
      "cell_type": "code",
      "metadata": {
        "id": "qmNQ0_BiBNzx"
      },
      "source": [
        ""
      ],
      "execution_count": null,
      "outputs": []
    }
  ]
}